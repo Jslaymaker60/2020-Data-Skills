{
 "cells": [
  {
   "cell_type": "markdown",
   "metadata": {},
   "source": [
    "# Modules and Program Structure\n",
    "## Writing Functions"
   ]
  },
  {
   "cell_type": "code",
   "execution_count": 23,
   "metadata": {},
   "outputs": [],
   "source": [
    "# here's our first function\n",
    "def GCcontent(dna):\n",
    "    # our function is called GCcontent and\n",
    "    # accepts a single argument called dna;\n",
    "    # assume that the input is a DNA sequence encoded\n",
    "    # in a string, and make sure it's all uppercase:\n",
    "    dna = dna.upper()\n",
    "    # count the occurrences of each nucleotide\n",
    "    numG = dna.count(\"G\")\n",
    "    numC = dna.count(\"C\")\n",
    "    numA = dna.count(\"A\")\n",
    "    numT = dna.count(\"T\")\n",
    "    # finally, calculate (G+C) / (A+T+G+C)\n",
    "    return (numG+numC) / (numG + numC + numT + numA)"
   ]
  },
  {
   "cell_type": "code",
   "execution_count": null,
   "metadata": {},
   "outputs": [],
   "source": [
    "whos"
   ]
  },
  {
   "cell_type": "code",
   "execution_count": 24,
   "metadata": {},
   "outputs": [
    {
     "data": {
      "text/plain": [
       "0.5"
      ]
     },
     "execution_count": 24,
     "metadata": {},
     "output_type": "execute_result"
    }
   ],
   "source": [
    "GCcontent(\"AATTTCCCGGGAAA\")\n",
    "GCcontent(\"ATGCATGCATGC\")"
   ]
  },
  {
   "cell_type": "code",
   "execution_count": 25,
   "metadata": {},
   "outputs": [],
   "source": [
    "def print_dictionary(mydic):\n",
    "    for k, v in mydic.items():\n",
    "        print(\"key: \", k, \" value: \", str(v))\n",
    "# return a list with results\n",
    "# declare default arguments: if no input is provided,\n",
    "# assume start = 1, end = 10\n",
    "def squared(start = 1, end = 10):\n",
    "    # create empty list to catch result of each cycle\n",
    "    results = []\n",
    "    for i in range(start, end):\n",
    "        r = i ** 2\n",
    "        # append current value to result list\n",
    "        results.append(r)\n",
    "    return results"
   ]
  },
  {
   "cell_type": "code",
   "execution_count": 26,
   "metadata": {},
   "outputs": [
    {
     "name": "stdout",
     "output_type": "stream",
     "text": [
      "Variable           Type        Data/Info\n",
      "----------------------------------------\n",
      "GCcontent          function    <function GCcontent at 0x10a158e60>\n",
      "a                  int         5\n",
      "dic                dict        n=3\n",
      "print_dictionary   function    <function print_dictionary at 0x10a19b9e0>\n",
      "squared            function    <function squared at 0x10a19b950>\n"
     ]
    }
   ],
   "source": [
    "whos"
   ]
  },
  {
   "cell_type": "code",
   "execution_count": null,
   "metadata": {},
   "outputs": [],
   "source": [
    "print_dictionary({\"a\": 3.4, \"b\": [1,2,3,4], \"c\": \"astring\"})"
   ]
  },
  {
   "cell_type": "code",
   "execution_count": 27,
   "metadata": {},
   "outputs": [
    {
     "data": {
      "text/plain": [
       "dict_items"
      ]
     },
     "execution_count": 27,
     "metadata": {},
     "output_type": "execute_result"
    }
   ],
   "source": [
    "dic = {\"a\": 3.4, \"b\": [1,2,3,4], \"c\": \"astring\"}\n",
    "type(dic.items())"
   ]
  },
  {
   "cell_type": "code",
   "execution_count": 28,
   "metadata": {},
   "outputs": [
    {
     "data": {
      "text/plain": [
       "[9, 16, 25, 36, 49, 64, 81]"
      ]
     },
     "execution_count": 28,
     "metadata": {},
     "output_type": "execute_result"
    }
   ],
   "source": [
    "# specify both start and end\n",
    "squared(start = 3, end = 10)"
   ]
  },
  {
   "cell_type": "code",
   "execution_count": 29,
   "metadata": {},
   "outputs": [
    {
     "data": {
      "text/plain": [
       "[25, 36, 49, 64, 81]"
      ]
     },
     "execution_count": 29,
     "metadata": {},
     "output_type": "execute_result"
    }
   ],
   "source": [
    "# specify only start, end has default value 10\n",
    "squared(5)"
   ]
  },
  {
   "cell_type": "code",
   "execution_count": null,
   "metadata": {},
   "outputs": [],
   "source": [
    "# can you work out how you would specify just the end, and have the start be the default value 1?\n"
   ]
  },
  {
   "cell_type": "code",
   "execution_count": 30,
   "metadata": {},
   "outputs": [
    {
     "data": {
      "text/plain": [
       "[1, 4, 9, 16, 25, 36, 49, 64, 81]"
      ]
     },
     "execution_count": 30,
     "metadata": {},
     "output_type": "execute_result"
    }
   ],
   "source": [
    "# and what does the following call of squared() do?\n",
    "squared()"
   ]
  },
  {
   "cell_type": "markdown",
   "metadata": {},
   "source": [
    "## Importing Packages and Modules\n",
    "The four different ways to load the module `mymodule` in order to access the function `my_function` in that module:\n",
    "1. `import mymodule`\n",
    "    access functions in the module via `mymodule.my_function()`\n",
    "1. `from mymodule import my_function`\n",
    "    in this way, you import only the function `my_function` contained in module `mymodule` into the current namespace, which means you can directly call that function by `my_function()`\n",
    "1. `import mymodule as mm`\n",
    "    same as the first method except we use `mm` as short name for `mymodule`, and now you can shorten the function call by `mm.my_function()`\n",
    "1. `from mymodule import *`\n",
    "    this will load all the functions within `mymodule` into the _current name space_, which means you can call all the functions directly by their name. The downside is, this polutes the name space by potentially overwriting existing functions and variables that have the same name."
   ]
  },
  {
   "cell_type": "markdown",
   "metadata": {},
   "source": [
    "## Program Structure\n",
    "To practice coding using a more complex program structure, we will write a simulation dealing with population genetics. The goal is to simulate a population of $N$ monoecious (i.e., hermaphrodites, meaning the same animal is both male and female), diploid (i.e., carrying two homologous copies of each chromosome) organisms. We focus on a particular gene, which has two alternative forms (alleles), $A$ and $a$. Initially, the individuals are assigned a genotype, receiving allele $A$ with probability $p$, and allele $a$ with probability $1-p$. At each generation, the organisms reproduce, and then die (nonoverlapping generations). We also assume that the population size is constant, that there are no mutations or selection and that mating is completely random.\n",
    "  \n",
    "We will use this simulation code to explore a population genetic process called genetic drift: for small populations, even alleles that do not bring a fitness advantage can go to fixation (i.e., be present in 100% of the individuals).\n",
    "\n",
    "To make this task manageable, we will break it down into several smaller tasks, each of which is hopefully easy to handle.\n",
    "\n",
    "- A function that initializes the population: It should take as input the size of the population ($N$), and the probability of having an $A$ allele ($p$). This function returns an entire population\n",
    "- A function that computes the genotypic frequencies, which we will need to determine whether an allele has gone to fixation: The function should take a population as input and output the count for each genotype.\n",
    "- A reproduction function taht takes the current population and produces the next generation.\n",
    "\n",
    "We also need to choose a data structure for our program. Here we represent a population as a lis of tuples, where each tuple is an individual with its two chromosomes (e.g., `(\"A\", \"A\")` would be a homozygous individual).\n",
    "\n",
    "We start by importing the module `SciPy`. This module contains many useful scientific functions. Here we use it only to draw random numbers. Now let's start writing the functions:\n"
   ]
  },
  {
   "cell_type": "code",
   "execution_count": 31,
   "metadata": {},
   "outputs": [
    {
     "ename": "ModuleNotFoundError",
     "evalue": "No module named 'scipy'",
     "output_type": "error",
     "traceback": [
      "\u001b[0;31m---------------------------------------------------------------------------\u001b[0m",
      "\u001b[0;31mModuleNotFoundError\u001b[0m                       Traceback (most recent call last)",
      "\u001b[0;32m<ipython-input-31-30963433577a>\u001b[0m in \u001b[0;36m<module>\u001b[0;34m\u001b[0m\n\u001b[0;32m----> 1\u001b[0;31m \u001b[0;32mimport\u001b[0m \u001b[0mscipy\u001b[0m \u001b[0;31m# for random numbers\u001b[0m\u001b[0;34m\u001b[0m\u001b[0;34m\u001b[0m\u001b[0m\n\u001b[0m\u001b[1;32m      2\u001b[0m \u001b[0;34m\u001b[0m\u001b[0m\n\u001b[1;32m      3\u001b[0m \u001b[0;32mdef\u001b[0m \u001b[0mbuild_population\u001b[0m\u001b[0;34m(\u001b[0m\u001b[0mN\u001b[0m\u001b[0;34m,\u001b[0m\u001b[0mp\u001b[0m\u001b[0;34m)\u001b[0m\u001b[0;34m:\u001b[0m\u001b[0;34m\u001b[0m\u001b[0;34m\u001b[0m\u001b[0m\n\u001b[1;32m      4\u001b[0m     \"\"\"The population consists of N individuals.\n\u001b[1;32m      5\u001b[0m        \u001b[0mEach\u001b[0m \u001b[0mindividual\u001b[0m \u001b[0mhas\u001b[0m \u001b[0mtwo\u001b[0m \u001b[0mchromosomes\u001b[0m\u001b[0;34m,\u001b[0m \u001b[0mcontaining\u001b[0m\u001b[0;34m\u001b[0m\u001b[0;34m\u001b[0m\u001b[0m\n",
      "\u001b[0;31mModuleNotFoundError\u001b[0m: No module named 'scipy'"
     ]
    }
   ],
   "source": [
    "import scipy # for random numbers\n",
    "\n",
    "def build_population(N,p):\n",
    "    \"\"\"The population consists of N individuals.\n",
    "       Each individual has two chromosomes, containing\n",
    "       allele \"A\" or \"a\", with probability p or 1-p, \n",
    "       respectively.\n",
    "       \n",
    "       The population is a list of tuples.\n",
    "    \"\"\"\n",
    "    population = []\n",
    "    "
   ]
  }
 ],
 "metadata": {
  "kernelspec": {
   "display_name": "Python 3",
   "language": "python",
   "name": "python3"
  },
  "language_info": {
   "codemirror_mode": {
    "name": "ipython",
    "version": 3
   },
   "file_extension": ".py",
   "mimetype": "text/x-python",
   "name": "python",
   "nbconvert_exporter": "python",
   "pygments_lexer": "ipython3",
   "version": "3.7.6"
  }
 },
 "nbformat": 4,
 "nbformat_minor": 2
}
