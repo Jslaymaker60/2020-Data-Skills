{
 "cells": [
  {
   "cell_type": "markdown",
   "metadata": {},
   "source": [
    "The scripts and codes here are copied from \"Computing Skills for Biologists\" by Stefano Allesina and Madlen Wilmes, published by Princeton University Press in 2019"
   ]
  },
  {
   "cell_type": "markdown",
   "metadata": {},
   "source": [
    "## Simple calculations with basic data types"
   ]
  },
  {
   "cell_type": "markdown",
   "metadata": {},
   "source": [
    "Try the following commands one by one and figure out what they do\n",
    "```python\n",
    "2 + 2  # spaces optional, that is, 2+2 works, too\n",
    "2 * 2\n",
    "3 / 2\n",
    "3 // 2\n",
    "2 > 3\n",
    "2 == 2\n",
    "2 != 2\n",
    "\"my string\"\n",
    "```"
   ]
  },
  {
   "cell_type": "code",
   "execution_count": null,
   "metadata": {},
   "outputs": [],
   "source": [
    "# copy and paste the commands above into this box below these comment lines\n",
    "# to execute, press Shift+Enter, e.g.\n",
    "2 + 2"
   ]
  },
  {
   "cell_type": "code",
   "execution_count": null,
   "metadata": {},
   "outputs": [],
   "source": [
    "# test the rest of the operations here."
   ]
  },
  {
   "cell_type": "markdown",
   "metadata": {},
   "source": [
    "If your string already contain single and double quotes, you can use triple quotes. Another way of including single and double quotes in a string is by preceding it with the `\\`, which tells python to skip the next symbol (not interpret it). Try the following\n",
    "```python\n",
    "\"\"\"The tree's height is 6'2\".\"\"\"\n",
    "'The tree\\'s height is 6\\,2.'\n",
    "```"
   ]
  },
  {
   "cell_type": "code",
   "execution_count": null,
   "metadata": {},
   "outputs": [],
   "source": [
    "# test here"
   ]
  },
  {
   "cell_type": "markdown",
   "metadata": {},
   "source": [
    "What does `2 * 3 ** 3` do? `3 ** 3` means $3^3$. In python as in many other languages, different operators have different precedence. So try this calculation and figure out what is the order of calculations."
   ]
  },
  {
   "cell_type": "code",
   "execution_count": null,
   "metadata": {},
   "outputs": [],
   "source": [
    "2 * 3 ** 3"
   ]
  },
  {
   "cell_type": "markdown",
   "metadata": {},
   "source": [
    "Now how about `(2 * 3) ** 3`? What do you learn?"
   ]
  },
  {
   "cell_type": "code",
   "execution_count": null,
   "metadata": {},
   "outputs": [],
   "source": []
  },
  {
   "cell_type": "markdown",
   "metadata": {},
   "source": [
    "## Variable Assignment"
   ]
  },
  {
   "cell_type": "markdown",
   "metadata": {},
   "source": [
    "When programming, typically you manipulate **variables**. One can think of a variable as a box that contains a value. To create a new variable, simply assign a value to it. Try the following commands\n",
    "```python\n",
    "x = 5 # assign value 5 to variable x\n",
    "x # display x\n",
    "```\n",
    "Note that `=` in python, as in many other languages, is used to **assign** values to variables, rather than testing for equality, which uses `==`.\n",
    "Whenever you create a variable, its name is stored in the memory. To see which variables you have created in the current session, type `who`"
   ]
  },
  {
   "cell_type": "code",
   "execution_count": null,
   "metadata": {},
   "outputs": [],
   "source": [
    " # assign a value that you want\n",
    "x ="
   ]
  },
  {
   "cell_type": "code",
   "execution_count": null,
   "metadata": {},
   "outputs": [],
   "source": [
    "# type `who` and execute this cell"
   ]
  },
  {
   "cell_type": "markdown",
   "metadata": {},
   "source": [
    "Once you have defined a variable, you can use it to perform operations. Try the commands below\n",
    "```python\n",
    "x + 3\n",
    "y = 8\n",
    "x + y\n",
    "```"
   ]
  },
  {
   "cell_type": "code",
   "execution_count": null,
   "metadata": {},
   "outputs": [],
   "source": [
    "# test here"
   ]
  },
  {
   "cell_type": "markdown",
   "metadata": {},
   "source": [
    "Now let's look at strings\n",
    "```python\n",
    "# assign a string\n",
    "x = \"The cell grew\"\n",
    "# concatenate two strings\n",
    "x + \" and is now larger\"\n",
    "```"
   ]
  },
  {
   "cell_type": "code",
   "execution_count": null,
   "metadata": {},
   "outputs": [],
   "source": [
    "# test here"
   ]
  },
  {
   "cell_type": "markdown",
   "metadata": {},
   "source": [
    "We cannot, however, perform operations on variables that have different types:\n",
    "```python\n",
    "x + y # x is string, y is integer\n",
    "```"
   ]
  },
  {
   "cell_type": "code",
   "execution_count": null,
   "metadata": {},
   "outputs": [],
   "source": [
    "# test here"
   ]
  },
  {
   "cell_type": "markdown",
   "metadata": {},
   "source": [
    "But we can convert one data type into another and then perform the operations\n",
    "```python\n",
    "x # string\n",
    "y # integer\n",
    "x + \" \" + str(y) + \" nm\"\n",
    "z = \"88\" # string\n",
    "x + z\n",
    "y + int(z)\n",
    "```"
   ]
  },
  {
   "cell_type": "code",
   "execution_count": null,
   "metadata": {},
   "outputs": [],
   "source": [
    "# test here"
   ]
  },
  {
   "cell_type": "markdown",
   "metadata": {},
   "source": [
    "One of the main features of Python is _dynamic typing_. This means that the type of a variable is determined when the program runs, so in principle you can assign different data types to the same variable within your program. You can use `type` to determine the type of a variable. Try the following commands\n",
    "```python\n",
    "x = 2\n",
    "type(x)\n",
    "x = \"two\"\n",
    "type(x)\n",
    "```"
   ]
  },
  {
   "cell_type": "markdown",
   "metadata": {},
   "source": [
    "## Built-In Functions\n",
    "Python provides many built-in functions that you can use to manipulate and query your variables. Above, we have already used the functions `type`, `str`, `int`. Let's introduce some more.\n",
    "1. `len()`\n",
    "    ```python\n",
    "    s = \"a long string\"\n",
    "    len(s)\n",
    "    ```\n",
    "1. `abs(), pow(), print(), round(), help()`\n",
    "    \n",
    "    Figure out what the following commands do by trying them out.\n",
    "    ```python\n",
    "    abs(-3.14)\n",
    "    pow(3,6)\n",
    "    print(s)\n",
    "    round(3.1415926535,3)\n",
    "    help(round)\n",
    "    ```"
   ]
  },
  {
   "cell_type": "code",
   "execution_count": null,
   "metadata": {},
   "outputs": [],
   "source": [
    "# test here"
   ]
  },
  {
   "cell_type": "markdown",
   "metadata": {},
   "source": [
    "## Strings\n",
    "Python excels at string manipulation, making it very useful for biologists who manipulate nucleotide or amino-acid sequences, process the output of lab equipment or parse database information. Let's start by creating a string and applying a general function\n",
    "```python\n",
    "astring = \"ATGCATG\"\n",
    "len(astring)\n",
    "```"
   ]
  },
  {
   "cell_type": "code",
   "execution_count": null,
   "metadata": {},
   "outputs": [],
   "source": [
    "# test here\n",
    "astring = \"ATGCATG\""
   ]
  },
  {
   "cell_type": "markdown",
   "metadata": {},
   "source": [
    "Python is _object oriented_, meaning that all variables are objects containing both the data and **useful methods** to manipulate the data. Think of a method as a function that is specific to that object (e.g., a string). You can access all the methods associated with an object by typing the name of the object followed by a \"dot\" (.), and pressing Tab (pressing Tab also provides autocompletion)\n",
    "```python\n",
    "# press Tab after dot to list methods\n",
    "# choose one then append \"()\" after the method to complete it\n",
    "# now you can execute by pressing Shift+Enter\n",
    "astring.\n",
    "```"
   ]
  },
  {
   "cell_type": "code",
   "execution_count": null,
   "metadata": {},
   "outputs": [],
   "source": [
    "# test here\n"
   ]
  },
  {
   "cell_type": "markdown",
   "metadata": {},
   "source": [
    "If you want to know more about a tpe-specific method, use the `help` function, e.g. `help(astring.find)`"
   ]
  },
  {
   "cell_type": "code",
   "execution_count": null,
   "metadata": {},
   "outputs": [],
   "source": [
    "# test here"
   ]
  },
  {
   "cell_type": "markdown",
   "metadata": {},
   "source": [
    "Here are some examples of the many string-specific methods in Python:\n",
    "```python\n",
    "# replace characters\n",
    "astring.replace(\"T\", \"U\")\n",
    "# position of first occurrence\n",
    "astring.find(\"C\")\n",
    "# count occurrences\n",
    "astring.count(\"G\")\n",
    "newstring = \" Mus musculus \"\n",
    "# split the string (using spaces by default)\n",
    "newstring.split()\n",
    "# specify how to split\n",
    "newstring.split(\"u\")\n",
    "# remove leading and trailing white space\n",
    "newstring.strip()\n",
    "```\n",
    "\n",
    "It is possible to use the string methods without first assigning the string to a variable. For example\n",
    "```python\n",
    "\"atgc\".upper()\n",
    "\"TGCA\".lower()\n",
    "```"
   ]
  },
  {
   "cell_type": "code",
   "execution_count": null,
   "metadata": {},
   "outputs": [],
   "source": [
    "# test here"
   ]
  },
  {
   "cell_type": "markdown",
   "metadata": {},
   "source": [
    "To concatenate strings, you can use the plus sign\n",
    "```python\n",
    "genus = \"Rattus\"\n",
    "species = \"norvegicus\"\n",
    "# separate with a space\n",
    "genus + \" \" + species\n",
    "```\n",
    "Notice however that concatenating strings using plus signs is rather _slow_. You can use the method join instead\n",
    "```python\n",
    "human = [\"Homo\", \"Sapiens\"]\n",
    "\" \".join(human) # this means use a space to join the two items in the list\n",
    "\"->\".join([\"one\", \"leads\", \"2\", \"the\", \"other\"])\n",
    "```"
   ]
  },
  {
   "cell_type": "code",
   "execution_count": null,
   "metadata": {},
   "outputs": [],
   "source": [
    "# test here"
   ]
  },
  {
   "cell_type": "markdown",
   "metadata": {},
   "source": [
    "Be careful not to confuse built-in functions with object-specific methods\n",
    "```python\n",
    "s = \"ATGC\"\n",
    "# call the built-in function \"print\" on a string\n",
    "print(s)\n",
    "# calling the method \"print\" returns an error message\n",
    "# that tells us that strings have no method called \"print\"\n",
    "s.print()\n",
    "```"
   ]
  },
  {
   "cell_type": "code",
   "execution_count": null,
   "metadata": {},
   "outputs": [],
   "source": [
    "# test here"
   ]
  },
  {
   "cell_type": "markdown",
   "metadata": {},
   "source": [
    "## Exercise\n",
    "a. Initialize the string `s = \"WHEN on board H.M.S. Beagle, as naturalist`\n",
    "b. Apply a string method to count the number of occurrences of the character `b`\n",
    "c. Modify the command such that it counts both lowercase and uppercase `b`'s\n",
    "d. Replace `WHEN` with `When`"
   ]
  },
  {
   "cell_type": "code",
   "execution_count": null,
   "metadata": {},
   "outputs": [],
   "source": [
    "# Test your knowledge here"
   ]
  }
 ],
 "metadata": {
  "kernelspec": {
   "display_name": "Python 3",
   "language": "python",
   "name": "python3"
  },
  "language_info": {
   "codemirror_mode": {
    "name": "ipython",
    "version": 3
   },
   "file_extension": ".py",
   "mimetype": "text/x-python",
   "name": "python",
   "nbconvert_exporter": "python",
   "pygments_lexer": "ipython3",
   "version": "3.7.6"
  }
 },
 "nbformat": 4,
 "nbformat_minor": 2
}
