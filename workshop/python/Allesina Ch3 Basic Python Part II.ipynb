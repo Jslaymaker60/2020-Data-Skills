{
 "cells": [
  {
   "cell_type": "code",
   "execution_count": null,
   "metadata": {},
   "outputs": [],
   "source": [
    "# some global settings\n",
    "from IPython.core.interactiveshell import InteractiveShell\n",
    "InteractiveShell.ast_node_interactivity = \"all\""
   ]
  },
  {
   "cell_type": "markdown",
   "metadata": {},
   "source": [
    "## Data Structures\n",
    "Data structures are the most important element to learn in a programming language. This is where I personally struggled the most when learning Python and R. So, pay close attention here.\n",
    "\n",
    "What does data structure mean? Data structure refers to the special types of objects meant to contain data organized in a certain way. That's not a very helpful definition. So let's look at some concrete data structures and their examples."
   ]
  },
  {
   "cell_type": "markdown",
   "metadata": {},
   "source": [
    "### Lists\n",
    "A list is an _ordered collection of values_, where each value can appear multiple times. In Python, list is defined by surrounding the values, separated by commas, with a pair of **square brackets**"
   ]
  },
  {
   "cell_type": "markdown",
   "metadata": {},
   "source": [
    "```python\n",
    "new_list = [] # create an empty list\n",
    "my_list = [3, 2.44, \"green\", True] # specify values\n",
    "# notice how you can mix different data types, here including integer, float, string and boolean\n",
    "a = list(\"0123456789\") # the `list()` function takes a string as input and split it\n",
    "print(a) # check for yourself what the `list()` function did\n",
    "```"
   ]
  },
  {
   "cell_type": "code",
   "execution_count": null,
   "metadata": {},
   "outputs": [],
   "source": [
    "# test here"
   ]
  },
  {
   "cell_type": "markdown",
   "metadata": {},
   "source": [
    "you can retrieve specific elements of a list, or assign new values to them using index\n",
    "```python\n",
    "my_list[1] # think for a second what this should give you\n",
    "my_list[0] # how about this?\n",
    "my_list[2] = \"red\" # what does this command do?\n",
    "my_list[4] # what do you get with this? why?\n",
    "```"
   ]
  },
  {
   "cell_type": "code",
   "execution_count": null,
   "metadata": {},
   "outputs": [],
   "source": [
    "# test here"
   ]
  },
  {
   "cell_type": "markdown",
   "metadata": {},
   "source": [
    "we can retrieve more than one element at a time, using the colon (:) operator.\n",
    "```python\n",
    "my_list # this will print the entire list\n",
    "my_list[0:1] # elements 0 to 1 (non-inclusive)\n",
    "             # what can you deduce from the output of this command?\n",
    "```\n",
    "Now, can you write a command to retrieve the first three elements of my_list?"
   ]
  },
  {
   "cell_type": "code",
   "execution_count": null,
   "metadata": {},
   "outputs": [],
   "source": [
    "# test here"
   ]
  },
  {
   "cell_type": "markdown",
   "metadata": {},
   "source": [
    "sometimes you will see colon operators with no number on one or both sides\n",
    "```python\n",
    "my_list[:] # what does this do?\n",
    "my_list[:3] # how about this?\n",
    "```"
   ]
  },
  {
   "cell_type": "code",
   "execution_count": null,
   "metadata": {},
   "outputs": [],
   "source": [
    "# test here"
   ]
  },
  {
   "cell_type": "markdown",
   "metadata": {},
   "source": [
    "you can even use negative numbers to index from the end, try this\n",
    "```python\n",
    "my_list[-2]\n",
    "```"
   ]
  },
  {
   "cell_type": "code",
   "execution_count": null,
   "metadata": {},
   "outputs": [],
   "source": [
    "# test here"
   ]
  },
  {
   "cell_type": "markdown",
   "metadata": {},
   "source": [
    "There are some useful methods for list. Type them into a code cell and try them out\n",
    "1. append\n",
    "    ```python\n",
    "    my_list.append(25)\n",
    "    print(my_list)\n",
    "    ```\n",
    "2. copy\n",
    "    ```python\n",
    "    new_list = my_list.copy()\n",
    "    new_list\n",
    "    ```\n",
    "3. clear: clear out all elements in a list!\n",
    "    ```python\n",
    "    my_list.clear()\n",
    "    my_list\n",
    "    ```\n",
    "4. count\n",
    "    ```python\n",
    "    seq = list(\"TKAAVVNFT\")\n",
    "    seq.count(\"V\")\n",
    "    ```"
   ]
  },
  {
   "cell_type": "code",
   "execution_count": null,
   "metadata": {},
   "outputs": [],
   "source": [
    "# test here"
   ]
  },
  {
   "cell_type": "markdown",
   "metadata": {},
   "source": [
    "5. index: return the index corresponding to the first occurrence of an element\n",
    "    ```python\n",
    "    seq.index(\"V\")\n",
    "    ```\n",
    "6. pop: remove the last element of the list and return it (hence \"pop\")\n",
    "    ```python\n",
    "    seq2 = seq.pop()\n",
    "    seq\n",
    "    seq2\n",
    "    ```\n",
    "7. sort: sort the elements in place (useful for a list of numbers or characters, but can give unexpected results for other types of data!)\n",
    "    ```python\n",
    "    a = [1, 5, 2, 42, 14, 132]\n",
    "    a.sort()\n",
    "    a\n",
    "    ```\n",
    "8. reverse\n",
    "    ```python\n",
    "    a.reverse()\n",
    "    a\n",
    "    ```\n",
    "9. del: delete an element or a series of elements from a list\n",
    "    ```python\n",
    "    del(a[2:3])\n",
    "    a\n",
    "    ```\n"
   ]
  },
  {
   "cell_type": "code",
   "execution_count": null,
   "metadata": {},
   "outputs": [],
   "source": [
    "# test here"
   ]
  },
  {
   "cell_type": "markdown",
   "metadata": {},
   "source": [
    "### Dictionaries\n",
    "A dictionary is like an unordered list in which the elements are indexed by _keys_. The principle is the same as in an actual dictionary, where definitions are indexed by words. So when do we use dictionaries in Python? It is useful when the variables _do not_ have a natural order. In Python, dictionaries are defined by separating key:value pairs using commas, and surrounding them by **curly brackets**"
   ]
  },
  {
   "cell_type": "code",
   "execution_count": null,
   "metadata": {},
   "outputs": [],
   "source": [
    "# create an empty dictionary\n",
    "my_dict = {}\n",
    "\n",
    "# dictionaries can contain many types of data\n",
    "my_dict = {\"a\": \"test\", \"b\": 3.14, \"c\": [1,2,3,4]}\n",
    "my_dict"
   ]
  },
  {
   "cell_type": "code",
   "execution_count": null,
   "metadata": {},
   "outputs": [],
   "source": [
    "# some more useful examples\n",
    "GenomeSize = {\"Homo sapiens\": 3200.0, \"Escherichia coli\": 4.6, \"Arabidopsis thaliana\": 157.0}\n",
    "# a dictionary has no natural order\n",
    "# i.e. the order of key:value input does not matter\n",
    "GenomeSize"
   ]
  },
  {
   "cell_type": "code",
   "execution_count": null,
   "metadata": {},
   "outputs": [],
   "source": [
    "# call a specific key (there is no numbering)\n",
    "GenomeSize[\"Arabidopsis thaliana\"]"
   ]
  },
  {
   "cell_type": "code",
   "execution_count": null,
   "metadata": {},
   "outputs": [],
   "source": [
    "# add a new value using a key not already present\n",
    "GenomeSize[\"Saccharomyces cerevisiae\"] = 12.1\n",
    "GenomeSize"
   ]
  },
  {
   "cell_type": "code",
   "execution_count": null,
   "metadata": {},
   "outputs": [],
   "source": [
    "# nothing happens if the key:value pair already exists\n",
    "GenomeSize[\"Escherichia coli\"] = 4.6\n",
    "GenomeSize"
   ]
  },
  {
   "cell_type": "code",
   "execution_count": null,
   "metadata": {},
   "outputs": [],
   "source": [
    "# can you guess what would happen with the following command?\n",
    "GenomeSize[\"Homo sapiens\"] = 3201.1\n",
    "GenomeSize"
   ]
  },
  {
   "cell_type": "markdown",
   "metadata": {},
   "source": [
    "_Questions_\n",
    "1. what happens if you assign a key:value that already exists in a dictionary?\n",
    "2. How about when a key:value pair matches a key that is already present in the dictionary?\n",
    "3. Why does dictionary have these behaviors?"
   ]
  },
  {
   "cell_type": "markdown",
   "metadata": {},
   "source": [
    "Some methods for dictionaries\n",
    "1. copy"
   ]
  },
  {
   "cell_type": "code",
   "execution_count": null,
   "metadata": {},
   "outputs": [],
   "source": [
    "GS = GenomeSize.copy()"
   ]
  },
  {
   "cell_type": "markdown",
   "metadata": {},
   "source": [
    "2. clear: you can guess it, try yourself"
   ]
  },
  {
   "cell_type": "code",
   "execution_count": null,
   "metadata": {},
   "outputs": [],
   "source": [
    "GenomeSize.clear()"
   ]
  },
  {
   "cell_type": "markdown",
   "metadata": {},
   "source": [
    "3. get: get the value from a key. If the key is not present, return a default value (why?)"
   ]
  },
  {
   "cell_type": "code",
   "execution_count": null,
   "metadata": {},
   "outputs": [],
   "source": [
    "GS.get('Homo sapiens') # this is the same as GS['Homo sapiens']"
   ]
  },
  {
   "cell_type": "code",
   "execution_count": null,
   "metadata": {},
   "outputs": [],
   "source": [
    "# however, the get method has a special utility, that is, when the key doesn't exist\n",
    "GS['Mus musculus']"
   ]
  },
  {
   "cell_type": "code",
   "execution_count": null,
   "metadata": {},
   "outputs": [],
   "source": [
    "GS.get(\"Mus musculus\", -10)"
   ]
  },
  {
   "cell_type": "markdown",
   "metadata": {},
   "source": [
    "4. keys"
   ]
  },
  {
   "cell_type": "code",
   "execution_count": null,
   "metadata": {},
   "outputs": [],
   "source": [
    "GS.keys()"
   ]
  },
  {
   "cell_type": "markdown",
   "metadata": {},
   "source": [
    "5. values"
   ]
  },
  {
   "cell_type": "code",
   "execution_count": null,
   "metadata": {},
   "outputs": [],
   "source": [
    "GS.values()"
   ]
  },
  {
   "cell_type": "markdown",
   "metadata": {},
   "source": [
    "6. pop(KEY): remove the specified key from the dictionary and return the corresponding value"
   ]
  },
  {
   "cell_type": "code",
   "execution_count": null,
   "metadata": {},
   "outputs": [],
   "source": [
    "GS.pop(\"Homo sapiens\")\n",
    "GS"
   ]
  },
  {
   "cell_type": "markdown",
   "metadata": {},
   "source": [
    "7. update: this can be used to join two dictionaries"
   ]
  },
  {
   "cell_type": "code",
   "execution_count": null,
   "metadata": {},
   "outputs": [],
   "source": [
    "D1 = {\"a\":1, \"b\":2, \"c\":3}\n",
    "D2 = {\"a\":2, \"d\":4, \"e\":5}\n",
    "D1.update(D2)\n",
    "D1"
   ]
  },
  {
   "cell_type": "markdown",
   "metadata": {},
   "source": [
    "_Question_: can you figure out how update() works?"
   ]
  },
  {
   "cell_type": "markdown",
   "metadata": {},
   "source": [
    "## Tuples\n",
    "A tuple contains a sequence of values of any type. What makes it different from \"list\" is that its elements are _immutable_, meaning that once created, it cannot be changed. This is useful for defining, for example, constants like pi, so that you don't accidentally change it. This is a special type of \"varaible\" that is designed to _not_ change. Tuples are created by surrounding commad-separated values with **round brackets**."
   ]
  },
  {
   "cell_type": "markdown",
   "metadata": {},
   "source": [
    "Try the following to figure out how tuples work\n",
    "```python\n",
    "my_tuple = (1, \"two\", 3)\n",
    "my_tuple[0]\n",
    "my_tuple[0] = 33\n",
    "tt = (1,1,1,1,2,2,4)\n",
    "tt.count(1)\n",
    "tt.index(2)\n",
    "```"
   ]
  },
  {
   "cell_type": "code",
   "execution_count": null,
   "metadata": {},
   "outputs": [],
   "source": [
    "# test here"
   ]
  },
  {
   "cell_type": "markdown",
   "metadata": {},
   "source": [
    "A special use of tuple is by using them as keys in a dictionary"
   ]
  },
  {
   "cell_type": "code",
   "execution_count": null,
   "metadata": {},
   "outputs": [],
   "source": [
    "D3 = {(\"trial\", 62): 4829}\n",
    "D3.keys()\n",
    "D3.get((\"trial\",62),-10)"
   ]
  },
  {
   "cell_type": "markdown",
   "metadata": {},
   "source": [
    "## Sets\n",
    "Sets are lists with _no duplicate entries_. They come with special operators for union, intersection and difference. There are two ways to initialized sets: either you can use **curly brackets** around coma-separated values (making it very similar to defining a dictionary), or you can call the function set on a list, thereby removing duplicate values. For example"
   ]
  },
  {
   "cell_type": "code",
   "execution_count": null,
   "metadata": {},
   "outputs": [],
   "source": [
    "# create a list\n",
    "a = [5, 6, 7, 7, 7, 8, 9, 9]\n",
    "# use the set function on the list\n",
    "b = set(a)\n",
    "# duplicate values have been removed\n",
    "b"
   ]
  },
  {
   "cell_type": "code",
   "execution_count": null,
   "metadata": {},
   "outputs": [],
   "source": [
    "c = {3, 4, 5, 6}\n",
    "# intersection\n",
    "b & c"
   ]
  },
  {
   "cell_type": "code",
   "execution_count": null,
   "metadata": {},
   "outputs": [],
   "source": [
    "# union\n",
    "b | c"
   ]
  },
  {
   "cell_type": "code",
   "execution_count": null,
   "metadata": {},
   "outputs": [],
   "source": [
    "# difference: in b but not in c or in c but not in b\n",
    "b ^ c"
   ]
  },
  {
   "cell_type": "markdown",
   "metadata": {},
   "source": [
    "Above, we have used the logical operators &, |, ^ for the union, intersection and difference of two sets, respectively. These operations are also available as built-in methods. Furthermore, you can test whether a set is a subset (or superset) of another:"
   ]
  },
  {
   "cell_type": "code",
   "execution_count": null,
   "metadata": {},
   "outputs": [],
   "source": [
    "s1 = {1, 2, 3, 4}\n",
    "s2 = {4, 5, 6}\n",
    "s1.intersection(s2)\n",
    "s1.union(s2)"
   ]
  },
  {
   "cell_type": "code",
   "execution_count": null,
   "metadata": {},
   "outputs": [],
   "source": [
    "# difference\n",
    "s1.symmetric_difference(s2)\n",
    "s1.difference(s2)\n",
    "# can you figure out the difference between these two \"difference\" functions?"
   ]
  },
  {
   "cell_type": "code",
   "execution_count": null,
   "metadata": {},
   "outputs": [],
   "source": [
    "# subset\n",
    "s1.issubset(s2)\n",
    "s1.issubset(s1.union(s2))"
   ]
  },
  {
   "cell_type": "markdown",
   "metadata": {},
   "source": [
    "One last note: it may be confusing to find that calling `a = {}` creates an empty dictionary, and not an empty set! To initialize an empty set, use `a = set([])`"
   ]
  }
 ],
 "metadata": {
  "kernelspec": {
   "display_name": "Python 3",
   "language": "python",
   "name": "python3"
  },
  "language_info": {
   "codemirror_mode": {
    "name": "ipython",
    "version": 3
   },
   "file_extension": ".py",
   "mimetype": "text/x-python",
   "name": "python",
   "nbconvert_exporter": "python",
   "pygments_lexer": "ipython3",
   "version": "3.7.6"
  }
 },
 "nbformat": 4,
 "nbformat_minor": 2
}
